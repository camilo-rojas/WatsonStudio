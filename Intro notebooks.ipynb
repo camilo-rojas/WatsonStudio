{
    "nbformat_minor": 1, 
    "cells": [
        {
            "source": "# Introducci\u00f3n a notebooks\nEn este cuaderno b\u00e1sico realizaremos un ejercicio b\u00e1sico para realizar una revisi\u00f3n del potencial de los cuadernos en Data Science Experience.\n\nLo primero que vamos a realizar es importar una serie de librer\u00edas b\u00e1sicas de python, para poder manipular y manejar los datos.", 
            "cell_type": "markdown", 
            "metadata": {
                "collapsed": true
            }
        }, 
        {
            "execution_count": 2, 
            "cell_type": "code", 
            "metadata": {}, 
            "outputs": [], 
            "source": "import numpy as np\nimport pandas as pd\n# Importar librer\u00eda de plots b\u00e1sicos\nimport matplotlib.pyplot as plt"
        }, 
        {
            "source": "Ahora vamos a cargar dos variables con una distribuci\u00f3n normal de 100 registros.  Una llamada X1 y otra llamada X2.", 
            "cell_type": "markdown", 
            "metadata": {}
        }, 
        {
            "execution_count": 16, 
            "cell_type": "code", 
            "metadata": {}, 
            "outputs": [], 
            "source": "X1 =np.random.normal(0,1,100);\nX2 =np.random.normal(0,1,100);"
        }, 
        {
            "source": "Vamos a visualizar la variable en un plot sencillo.", 
            "cell_type": "markdown", 
            "metadata": {}
        }, 
        {
            "execution_count": 17, 
            "cell_type": "code", 
            "metadata": {}, 
            "outputs": [], 
            "source": "plt.plot(X1);\nplt.plot(X2);\n\nplt.xlabel('Tiempo')\nplt.ylabel('Retorno')\nplt.legend(['X1',['X2']]);"
        }, 
        {
            "source": "# Generando estadisticas\nVamos a generar unas estadisticas descriptivas b\u00e1sicas acerca de X1 y X2", 
            "cell_type": "markdown", 
            "metadata": {}
        }, 
        {
            "execution_count": null, 
            "cell_type": "code", 
            "metadata": {}, 
            "outputs": [], 
            "source": "X1.m"
        }
    ], 
    "metadata": {
        "kernelspec": {
            "display_name": "Python 3.5 with Spark 2.1", 
            "name": "python3-spark21", 
            "language": "python"
        }, 
        "language_info": {
            "mimetype": "text/x-python", 
            "nbconvert_exporter": "python", 
            "version": "3.5.4", 
            "name": "python", 
            "file_extension": ".py", 
            "pygments_lexer": "ipython3", 
            "codemirror_mode": {
                "version": 3, 
                "name": "ipython"
            }
        }
    }, 
    "nbformat": 4
}